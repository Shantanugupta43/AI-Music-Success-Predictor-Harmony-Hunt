{
 "cells": [
  {
   "cell_type": "markdown",
   "id": "6a96b715-cd07-4a56-b016-4103438de7a3",
   "metadata": {},
   "source": [
    "# AI Model for predicting future success of songs based on metrics - Harmony Hunt app (Jamendo API)\n"
   ]
  },
  {
   "cell_type": "markdown",
   "id": "dc94ba4a-ecad-4610-a5b4-30ae792516bc",
   "metadata": {},
   "source": [
    "A binary classification model designed to predict whether a song will perform better based on certain features."
   ]
  },
  {
   "cell_type": "markdown",
   "id": "8eabcc52-1a63-431f-856d-a53bc306d0cb",
   "metadata": {},
   "source": [
    "## Data Cleaning and preprocessing"
   ]
  },
  {
   "cell_type": "code",
   "execution_count": 3,
   "id": "dc26fedc-2c5f-4f91-a0a7-e9abca650666",
   "metadata": {
    "tags": []
   },
   "outputs": [
    {
     "name": "stderr",
     "output_type": "stream",
     "text": [
      "C:\\Users\\gupta\\AppData\\Local\\Temp\\ipykernel_15560\\3157618111.py:19: UserWarning: Parsing dates in %d/%m/%Y format when dayfirst=False (the default) was specified. Pass `dayfirst=True` or specify a format to silence this warning.\n",
      "  df['results__releasedate'] = pd.to_datetime(df['results__releasedate'])\n"
     ]
    },
    {
     "data": {
      "text/html": [
       "<div>\n",
       "<style scoped>\n",
       "    .dataframe tbody tr th:only-of-type {\n",
       "        vertical-align: middle;\n",
       "    }\n",
       "\n",
       "    .dataframe tbody tr th {\n",
       "        vertical-align: top;\n",
       "    }\n",
       "\n",
       "    .dataframe thead th {\n",
       "        text-align: right;\n",
       "    }\n",
       "</style>\n",
       "<table border=\"1\" class=\"dataframe\">\n",
       "  <thead>\n",
       "    <tr style=\"text-align: right;\">\n",
       "      <th></th>\n",
       "      <th>results__name</th>\n",
       "      <th>results__duration</th>\n",
       "      <th>results__artist_name</th>\n",
       "      <th>results__album_name</th>\n",
       "      <th>results__releasedate</th>\n",
       "      <th>results__stats__rate_downloads_total</th>\n",
       "      <th>results__stats__rate_listened_total</th>\n",
       "      <th>results__stats__playlisted</th>\n",
       "      <th>results__stats__favorited</th>\n",
       "      <th>results__stats__likes</th>\n",
       "      <th>results__stats__dislikes</th>\n",
       "      <th>released_on_weekend</th>\n",
       "    </tr>\n",
       "  </thead>\n",
       "  <tbody>\n",
       "    <tr>\n",
       "      <th>0</th>\n",
       "      <td>Colin Charisma - Good Things (Are Worth The Wait)</td>\n",
       "      <td>139</td>\n",
       "      <td>Colin Charisma</td>\n",
       "      <td>Colin Charisma - Good Things (Are Worth The Wait)</td>\n",
       "      <td>2024-01-30</td>\n",
       "      <td>0</td>\n",
       "      <td>18514</td>\n",
       "      <td>40</td>\n",
       "      <td>25</td>\n",
       "      <td>0</td>\n",
       "      <td>0</td>\n",
       "      <td>False</td>\n",
       "    </tr>\n",
       "    <tr>\n",
       "      <th>1</th>\n",
       "      <td>Rhythms of Love</td>\n",
       "      <td>252</td>\n",
       "      <td>Caleb Lemond</td>\n",
       "      <td>The Thing With Feathers</td>\n",
       "      <td>2024-01-19</td>\n",
       "      <td>395</td>\n",
       "      <td>17825</td>\n",
       "      <td>21</td>\n",
       "      <td>17</td>\n",
       "      <td>0</td>\n",
       "      <td>0</td>\n",
       "      <td>False</td>\n",
       "    </tr>\n",
       "    <tr>\n",
       "      <th>2</th>\n",
       "      <td>Stay with You</td>\n",
       "      <td>136</td>\n",
       "      <td>Decision Space</td>\n",
       "      <td>Awaking</td>\n",
       "      <td>2024-02-15</td>\n",
       "      <td>5</td>\n",
       "      <td>87</td>\n",
       "      <td>1</td>\n",
       "      <td>0</td>\n",
       "      <td>0</td>\n",
       "      <td>0</td>\n",
       "      <td>False</td>\n",
       "    </tr>\n",
       "    <tr>\n",
       "      <th>3</th>\n",
       "      <td>Colin Charisma - Best Days</td>\n",
       "      <td>198</td>\n",
       "      <td>Colin Charisma</td>\n",
       "      <td>Colin Charisma - Best Days</td>\n",
       "      <td>2024-01-30</td>\n",
       "      <td>0</td>\n",
       "      <td>220</td>\n",
       "      <td>3</td>\n",
       "      <td>2</td>\n",
       "      <td>0</td>\n",
       "      <td>0</td>\n",
       "      <td>False</td>\n",
       "    </tr>\n",
       "    <tr>\n",
       "      <th>4</th>\n",
       "      <td>Living My Fantasy</td>\n",
       "      <td>177</td>\n",
       "      <td>Ed Napoli</td>\n",
       "      <td>Living My Fantasy</td>\n",
       "      <td>2024-01-22</td>\n",
       "      <td>2</td>\n",
       "      <td>821</td>\n",
       "      <td>4</td>\n",
       "      <td>1</td>\n",
       "      <td>0</td>\n",
       "      <td>0</td>\n",
       "      <td>False</td>\n",
       "    </tr>\n",
       "    <tr>\n",
       "      <th>...</th>\n",
       "      <td>...</td>\n",
       "      <td>...</td>\n",
       "      <td>...</td>\n",
       "      <td>...</td>\n",
       "      <td>...</td>\n",
       "      <td>...</td>\n",
       "      <td>...</td>\n",
       "      <td>...</td>\n",
       "      <td>...</td>\n",
       "      <td>...</td>\n",
       "      <td>...</td>\n",
       "      <td>...</td>\n",
       "    </tr>\n",
       "    <tr>\n",
       "      <th>95</th>\n",
       "      <td>Apocalypse Dub</td>\n",
       "      <td>266</td>\n",
       "      <td>Lackaday!</td>\n",
       "      <td>Apocalypse Dub</td>\n",
       "      <td>2024-02-20</td>\n",
       "      <td>1</td>\n",
       "      <td>101</td>\n",
       "      <td>0</td>\n",
       "      <td>0</td>\n",
       "      <td>0</td>\n",
       "      <td>0</td>\n",
       "      <td>False</td>\n",
       "    </tr>\n",
       "    <tr>\n",
       "      <th>96</th>\n",
       "      <td>Truth is - Lounge Mix</td>\n",
       "      <td>157</td>\n",
       "      <td>Suzy E</td>\n",
       "      <td>Catchy Syngers - Part 36</td>\n",
       "      <td>2024-03-11</td>\n",
       "      <td>0</td>\n",
       "      <td>76</td>\n",
       "      <td>0</td>\n",
       "      <td>0</td>\n",
       "      <td>0</td>\n",
       "      <td>0</td>\n",
       "      <td>False</td>\n",
       "    </tr>\n",
       "    <tr>\n",
       "      <th>97</th>\n",
       "      <td>Watching Birds Fly</td>\n",
       "      <td>199</td>\n",
       "      <td>Silver-Stage</td>\n",
       "      <td>THE EDM VOLUME 7</td>\n",
       "      <td>2024-01-22</td>\n",
       "      <td>0</td>\n",
       "      <td>13</td>\n",
       "      <td>0</td>\n",
       "      <td>0</td>\n",
       "      <td>0</td>\n",
       "      <td>0</td>\n",
       "      <td>False</td>\n",
       "    </tr>\n",
       "    <tr>\n",
       "      <th>98</th>\n",
       "      <td>Буря вдалеке</td>\n",
       "      <td>284</td>\n",
       "      <td>Chalmer-Ju</td>\n",
       "      <td>Few cold drops</td>\n",
       "      <td>2024-03-19</td>\n",
       "      <td>0</td>\n",
       "      <td>0</td>\n",
       "      <td>0</td>\n",
       "      <td>0</td>\n",
       "      <td>0</td>\n",
       "      <td>0</td>\n",
       "      <td>False</td>\n",
       "    </tr>\n",
       "    <tr>\n",
       "      <th>99</th>\n",
       "      <td>Lie Down</td>\n",
       "      <td>183</td>\n",
       "      <td>Mike Lamitola</td>\n",
       "      <td>Fitting Out</td>\n",
       "      <td>2024-01-08</td>\n",
       "      <td>0</td>\n",
       "      <td>51</td>\n",
       "      <td>0</td>\n",
       "      <td>0</td>\n",
       "      <td>0</td>\n",
       "      <td>0</td>\n",
       "      <td>False</td>\n",
       "    </tr>\n",
       "  </tbody>\n",
       "</table>\n",
       "<p>100 rows × 12 columns</p>\n",
       "</div>"
      ],
      "text/plain": [
       "                                        results__name  results__duration  \\\n",
       "0   Colin Charisma - Good Things (Are Worth The Wait)                139   \n",
       "1                                     Rhythms of Love                252   \n",
       "2                                       Stay with You                136   \n",
       "3                          Colin Charisma - Best Days                198   \n",
       "4                                   Living My Fantasy                177   \n",
       "..                                                ...                ...   \n",
       "95                                     Apocalypse Dub                266   \n",
       "96                              Truth is - Lounge Mix                157   \n",
       "97                                 Watching Birds Fly                199   \n",
       "98                                       Буря вдалеке                284   \n",
       "99                                           Lie Down                183   \n",
       "\n",
       "   results__artist_name                                results__album_name  \\\n",
       "0        Colin Charisma  Colin Charisma - Good Things (Are Worth The Wait)   \n",
       "1          Caleb Lemond                            The Thing With Feathers   \n",
       "2        Decision Space                                            Awaking   \n",
       "3        Colin Charisma                         Colin Charisma - Best Days   \n",
       "4             Ed Napoli                                  Living My Fantasy   \n",
       "..                  ...                                                ...   \n",
       "95            Lackaday!                                     Apocalypse Dub   \n",
       "96               Suzy E                           Catchy Syngers - Part 36   \n",
       "97         Silver-Stage                                   THE EDM VOLUME 7   \n",
       "98           Chalmer-Ju                                     Few cold drops   \n",
       "99        Mike Lamitola                                        Fitting Out   \n",
       "\n",
       "   results__releasedate  results__stats__rate_downloads_total  \\\n",
       "0            2024-01-30                                     0   \n",
       "1            2024-01-19                                   395   \n",
       "2            2024-02-15                                     5   \n",
       "3            2024-01-30                                     0   \n",
       "4            2024-01-22                                     2   \n",
       "..                  ...                                   ...   \n",
       "95           2024-02-20                                     1   \n",
       "96           2024-03-11                                     0   \n",
       "97           2024-01-22                                     0   \n",
       "98           2024-03-19                                     0   \n",
       "99           2024-01-08                                     0   \n",
       "\n",
       "    results__stats__rate_listened_total  results__stats__playlisted  \\\n",
       "0                                 18514                          40   \n",
       "1                                 17825                          21   \n",
       "2                                    87                           1   \n",
       "3                                   220                           3   \n",
       "4                                   821                           4   \n",
       "..                                  ...                         ...   \n",
       "95                                  101                           0   \n",
       "96                                   76                           0   \n",
       "97                                   13                           0   \n",
       "98                                    0                           0   \n",
       "99                                   51                           0   \n",
       "\n",
       "    results__stats__favorited  results__stats__likes  \\\n",
       "0                          25                      0   \n",
       "1                          17                      0   \n",
       "2                           0                      0   \n",
       "3                           2                      0   \n",
       "4                           1                      0   \n",
       "..                        ...                    ...   \n",
       "95                          0                      0   \n",
       "96                          0                      0   \n",
       "97                          0                      0   \n",
       "98                          0                      0   \n",
       "99                          0                      0   \n",
       "\n",
       "    results__stats__dislikes  released_on_weekend  \n",
       "0                          0                False  \n",
       "1                          0                False  \n",
       "2                          0                False  \n",
       "3                          0                False  \n",
       "4                          0                False  \n",
       "..                       ...                  ...  \n",
       "95                         0                False  \n",
       "96                         0                False  \n",
       "97                         0                False  \n",
       "98                         0                False  \n",
       "99                         0                False  \n",
       "\n",
       "[100 rows x 12 columns]"
      ]
     },
     "execution_count": 3,
     "metadata": {},
     "output_type": "execute_result"
    }
   ],
   "source": [
    "import pandas as pd\n",
    "from sklearn.model_selection import train_test_split\n",
    "from sklearn.ensemble import RandomForestClassifier\n",
    "from sklearn.metrics import accuracy_score, precision_score, recall_score, f1_score, roc_auc_score\n",
    "from imblearn.over_sampling import RandomOverSampler\n",
    "from imblearn.under_sampling import RandomUnderSampler\n",
    "from imblearn.pipeline import Pipeline\n",
    "import numpy as np\n",
    "import matplotlib.pyplot as plt\n",
    "\n",
    "# Step 1: Load the dataset\n",
    "df = pd.read_csv(\"jamendo.csv\")\n",
    "\n",
    "# Drop the specified columns\n",
    "columns_to_drop = ['headers__status', '' 'headers__code', 'headers__error_message', 'headers__warnings', 'headers__results_count', 'results__id', 'results__album_id', 'results__license_ccurl', 'results__position', 'results__album_image' , 'results__audio', 'results__audiodownload', 'results__prourl', 'results__image', 'results__shorturl' , 'results__shareurl', 'results__audiodownload_allowed', 'results__artist_idstr', 'results__artist_id', 'results__waveform','results__stats__avgnote','results__stats__notes']\n",
    "df = df.drop(columns=columns_to_drop)\n",
    "\n",
    "# Convert the 'results__releasedate' column to datetime\n",
    "df['results__releasedate'] = pd.to_datetime(df['results__releasedate'])\n",
    "\n",
    "# Create a new column 'released_on_weekend'\n",
    "df['released_on_weekend'] = df['results__releasedate'].dt.weekday >= 5\n",
    "\n",
    "\n",
    "\n",
    "df.head(100)\n"
   ]
  },
  {
   "cell_type": "markdown",
   "id": "d7ef23e9-83a7-43b9-a650-98b331ec229a",
   "metadata": {},
   "source": [
    "## Target variable definition and identifying features for training "
   ]
  },
  {
   "cell_type": "code",
   "execution_count": 4,
   "id": "7f32fede-9041-43ab-9c8a-acfb8d89f39d",
   "metadata": {
    "tags": []
   },
   "outputs": [
    {
     "name": "stdout",
     "output_type": "stream",
     "text": [
      "perform_better\n",
      "False    84\n",
      "True     16\n",
      "Name: count, dtype: int64\n"
     ]
    },
    {
     "data": {
      "image/png": "[encoded data removed]",
      "text/plain": [
       "<Figure size 640x480 with 1 Axes>"
      ]
     },
     "metadata": {},
     "output_type": "display_data"
    }
   ],
   "source": [
    "# Define the target variable\n",
    "df['perform_better'] = (df['results__duration'] > 10) & (df['results__stats__playlisted'] > 1)\n",
    "\n",
    "# Examining the distribution of target variable before the resampling process\n",
    "class_counts = df['perform_better'].value_counts()\n",
    "print(class_counts)\n",
    "\n",
    "# Plot the distribution of target variable before the resampling process\n",
    "class_counts.plot(kind='bar', title='Class Distribution Before Resampling')\n",
    "plt.show()\n",
    "\n",
    "# Define the features (the information to make the prediction)\n",
    "features = df[['results__duration', 'results__stats__rate_downloads_total', 'results__stats__favorited', 'results__stats__likes', 'results__stats__dislikes', 'released_on_weekend']]"
   ]
  },
  {
   "cell_type": "markdown",
   "id": "ebbd4c8d-aeda-46a8-af22-0306383d19bc",
   "metadata": {},
   "source": [
    "## Handing class imbalances "
   ]
  },
  {
   "cell_type": "code",
   "execution_count": 5,
   "id": "01371f3b-502c-4948-a601-8cb6c1a8e87d",
   "metadata": {
    "tags": []
   },
   "outputs": [
    {
     "name": "stdout",
     "output_type": "stream",
     "text": [
      "perform_better\n",
      "False    84\n",
      "True     42\n",
      "Name: count, dtype: int64\n"
     ]
    },
    {
     "data": {
      "image/png": "[encoded data removed]",
      "text/plain": [
       "<Figure size 640x480 with 1 Axes>"
      ]
     },
     "metadata": {},
     "output_type": "display_data"
    }
   ],
   "source": [
    "# Define oversampling strategy\n",
    "over = RandomOverSampler(sampling_strategy=0.5)\n",
    "\n",
    "# Define undersampling strategy\n",
    "under = RandomUnderSampler(sampling_strategy=0.5)\n",
    "\n",
    "# Define pipeline\n",
    "pipeline = Pipeline(steps=[('o', over), ('u', under)])\n",
    "\n",
    "# Fit and apply the pipeline\n",
    "X_resampled, y_resampled = pipeline.fit_resample(features, df['perform_better'])\n",
    "\n",
    "# Print the count of each class in the resampled data\n",
    "resampled_class_counts = pd.Series(y_resampled).value_counts()\n",
    "print(resampled_class_counts)\n",
    "\n",
    "# Plot the distribution of target variable after the resampling process\n",
    "resampled_class_counts.plot(kind='bar', title='Class Distribution After Resampling')\n",
    "plt.show()\n",
    "\n",
    "\n"
   ]
  },
  {
   "cell_type": "markdown",
   "id": "108a1ea8-a327-4240-a72a-f1bbe9dd6905",
   "metadata": {},
   "source": [
    "## Model building and evaluation"
   ]
  },
  {
   "cell_type": "code",
   "execution_count": 6,
   "id": "92b2d209-cfe8-45c5-9e3c-136761fb5a7c",
   "metadata": {
    "tags": []
   },
   "outputs": [
    {
     "name": "stdout",
     "output_type": "stream",
     "text": [
      "Accuracy: 0.9230769230769231\n",
      "Precision: 0.7777777777777778\n",
      "Recall: 1.0\n",
      "F1 Score: 0.8750000000000001\n",
      "ROC AUC Score: 0.9473684210526316\n"
     ]
    },
    {
     "data": {
      "image/png": "[encoded data removed]",
      "text/plain": [
       "<Figure size 640x480 with 1 Axes>"
      ]
     },
     "metadata": {},
     "output_type": "display_data"
    }
   ],
   "source": [
    "# Split the data into training and test sets\n",
    "X_train, X_test, y_train, y_test = train_test_split(X_resampled, y_resampled, test_size=0.2, random_state=32)\n",
    "\n",
    "# Create and train the classifier\n",
    "clf = RandomForestClassifier(n_estimators=100, random_state=12)\n",
    "clf.fit(X_train, y_train)\n",
    "\n",
    "# Make predictions on the test set\n",
    "y_pred = clf.predict(X_test)\n",
    "\n",
    "# Measure the accuracy of the model\n",
    "accuracy = accuracy_score(y_test, y_pred)\n",
    "print(f'Accuracy: {accuracy}')\n",
    "\n",
    "# Measure the precision of the model\n",
    "precision = precision_score(y_test, y_pred)\n",
    "print(f'Precision: {precision}')\n",
    "\n",
    "# Measure the recall of the model\n",
    "recall = recall_score(y_test, y_pred)\n",
    "print(f'Recall: {recall}')\n",
    "\n",
    "# Measure the F1 score of the model\n",
    "f1 = f1_score(y_test, y_pred)\n",
    "print(f'F1 Score: {f1}')\n",
    "\n",
    "# Measure the Area Under the ROC Curve\n",
    "roc_auc = roc_auc_score(y_test, y_pred)\n",
    "print(f'ROC AUC Score: {roc_auc}')\n",
    "\n",
    "# Plot the metrics\n",
    "metrics = [accuracy, precision, recall, f1, roc_auc]\n",
    "metric_names = ['Accuracy', 'Precision', 'Recall', 'F1 Score', 'ROC AUC Score']\n",
    "\n",
    "plt.bar(metric_names, metrics)\n",
    "plt.title('Model Metrics')\n",
    "plt.ylabel('Score')\n",
    "plt.show()"
   ]
  },
  {
   "cell_type": "code",
   "execution_count": 7,
   "id": "41dc1970-74ce-48a4-b354-99e597c7f3b6",
   "metadata": {
    "tags": []
   },
   "outputs": [
    {
     "name": "stdout",
     "output_type": "stream",
     "text": [
      "                                        results__name  \\\n",
      "0   Colin Charisma - Good Things (Are Worth The Wait)   \n",
      "1                                     Rhythms of Love   \n",
      "3                          Colin Charisma - Best Days   \n",
      "4                                   Living My Fantasy   \n",
      "5                                              Scared   \n",
      "6                                          Your Smile   \n",
      "11                                           Madeline   \n",
      "13                             Good Time Past So Fast   \n",
      "14  Volta pra casa (feat. Marina Marchi, Pedro Vas...   \n",
      "19                                          Right Map   \n",
      "26                      Colin Charisma - Stratosphere   \n",
      "29                                       O sol chegou   \n",
      "32                                       Polite Rebel   \n",
      "46                                               Moth   \n",
      "47                                                 go   \n",
      "64                   Niki J Crawford - You Are Enough   \n",
      "68                            Aint Talking (revision)   \n",
      "85                                    Hard Rock Sport   \n",
      "\n",
      "              results__artist_name  \n",
      "0                   Colin Charisma  \n",
      "1                     Caleb Lemond  \n",
      "3                   Colin Charisma  \n",
      "4                        Ed Napoli  \n",
      "5                Mikaël Paranthoën  \n",
      "6                       BREEZELESS  \n",
      "11                   Mike Lamitola  \n",
      "13                         MerzBau  \n",
      "14  Pedro Miranda &amp; Zé Krishna  \n",
      "19                            Éder  \n",
      "26                  Colin Charisma  \n",
      "29                       Ed Napoli  \n",
      "32                      Infraction  \n",
      "46                   Courtney Nord  \n",
      "47                          kaiuga  \n",
      "64                 Niki J Crawford  \n",
      "68                      Oleg Xaler  \n",
      "85                       IlyaSound  \n"
     ]
    }
   ],
   "source": [
    "# Use the model to make predictions on the entire dataset\n",
    "df['predicted_perform_better'] = clf.predict(features)\n",
    "\n",
    "# Filter the DataFrame to only include songs that the model predicts will perform better\n",
    "predicted_hits = df[df['predicted_perform_better'] == True]\n",
    "\n",
    "# Print the names and artist of the predicted hit songs\n",
    "print(predicted_hits[['results__name', 'results__artist_name']])"
   ]
  },
  {
   "cell_type": "markdown",
   "id": "370aa173-5a7e-4b19-a285-0ca974e75d0d",
   "metadata": {},
   "source": [
    "## Feature importance plot"
   ]
  },
  {
   "cell_type": "markdown",
   "id": "45511b5c-7e71-447f-b130-7905388d7afa",
   "metadata": {},
   "source": [
    " The feature importance plot helps to understand which features were \n",
    " most influential in the model’s predictions."
   ]
  },
  {
   "cell_type": "code",
   "execution_count": 8,
   "id": "acd94f68-f2f9-449b-8977-6621fe14cd09",
   "metadata": {},
   "outputs": [
    {
     "data": {
      "image/png": "[encoded data removed]",
      "text/plain": [
       "<Figure size 640x480 with 1 Axes>"
      ]
     },
     "metadata": {},
     "output_type": "display_data"
    }
   ],
   "source": [
    "# Plot feature importance\n",
    "importances = clf.feature_importances_\n",
    "indices = np.argsort(importances)\n",
    "plt.title('Feature Importances')\n",
    "plt.barh(range(len(indices)), importances[indices], color='b', align='center')\n",
    "plt.yticks(range(len(indices)), [features.columns[i] for i in indices])\n",
    "plt.xlabel('Relative Importance')\n",
    "plt.show()"
   ]
  },
  {
   "cell_type": "code",
   "execution_count": null,
   "id": "7960f794-7c8b-4785-a451-2a7616a9fa6d",
   "metadata": {},
   "outputs": [],
   "source": []
  }
 ],
 "metadata": {
  "kernelspec": {
   "display_name": "Python 3 (ipykernel)",
   "language": "python",
   "name": "python3"
  },
  "language_info": {
   "codemirror_mode": {
    "name": "ipython",
    "version": 3
   },
   "file_extension": ".py",
   "mimetype": "text/x-python",
   "name": "python",
   "nbconvert_exporter": "python",
   "pygments_lexer": "ipython3",
   "version": "3.11.5"
  }
 },
 "nbformat": 4,
 "nbformat_minor": 5
}
